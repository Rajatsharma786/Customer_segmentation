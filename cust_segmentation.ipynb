{
 "cells": [
  {
   "cell_type": "markdown",
   "id": "5eb0d6de",
   "metadata": {},
   "source": [
    "\n",
    "# Customer Segmentation using Clickstream Data\n",
    "\n",
    "This project aims to segment customers based on their behavior using an e-commerce clickstream dataset. The goal is to identify distinct user groups to enable data-driven marketing and retention strategies.\n",
    "\n",
    "## Project Workflow\n",
    "1. **Data Loading & Cleaning**\n",
    "2. **Feature Engineering**: Creating metrics like views, cart adds, purchases, conversion rate, etc.\n",
    "3. **Clustering**: Applying K-Means and finding optimal `k`\n",
    "4. **Dimensionality Reduction**: PCA for visualization\n",
    "5. **Segment Profiling**: Summarizing and labeling each cluster\n"
   ]
  },
  {
   "cell_type": "code",
   "execution_count": 19,
   "id": "45e6bd14-9c7f-43f6-85a4-780517ece6fe",
   "metadata": {},
   "outputs": [],
   "source": [
    "import pandas as pd\n",
    "import matplotlib.pyplot as plt\n",
    "import seaborn as sns\n",
    "from sklearn.preprocessing import StandardScaler\n",
    "from sklearn.cluster import KMeans\n",
    "from mpl_toolkits.mplot3d import Axes3D\n",
    "from sklearn.metrics import silhouette_score\n",
    "from sklearn.decomposition import PCA\n",
    "pd.set_option('display.max_columns', None)\n",
    "sns.set(style='whitegrid')"
   ]
  },
  {
   "cell_type": "code",
   "execution_count": 2,
   "id": "2c5c3461-8594-46a2-b76f-a586694e14d5",
   "metadata": {},
   "outputs": [
    {
     "data": {
      "text/html": [
       "<div>\n",
       "<style scoped>\n",
       "    .dataframe tbody tr th:only-of-type {\n",
       "        vertical-align: middle;\n",
       "    }\n",
       "\n",
       "    .dataframe tbody tr th {\n",
       "        vertical-align: top;\n",
       "    }\n",
       "\n",
       "    .dataframe thead th {\n",
       "        text-align: right;\n",
       "    }\n",
       "</style>\n",
       "<table border=\"1\" class=\"dataframe\">\n",
       "  <thead>\n",
       "    <tr style=\"text-align: right;\">\n",
       "      <th></th>\n",
       "      <th>event_time</th>\n",
       "      <th>event_type</th>\n",
       "      <th>product_id</th>\n",
       "      <th>category_id</th>\n",
       "      <th>category_code</th>\n",
       "      <th>brand</th>\n",
       "      <th>price</th>\n",
       "      <th>user_id</th>\n",
       "      <th>user_session</th>\n",
       "    </tr>\n",
       "  </thead>\n",
       "  <tbody>\n",
       "    <tr>\n",
       "      <th>0</th>\n",
       "      <td>2019-11-01 00:00:00 UTC</td>\n",
       "      <td>view</td>\n",
       "      <td>1003461</td>\n",
       "      <td>2.053010e+18</td>\n",
       "      <td>electronics.smartphone</td>\n",
       "      <td>xiaomi</td>\n",
       "      <td>489.07</td>\n",
       "      <td>520088904</td>\n",
       "      <td>4d3b30da-a5e4-49df-b1a8-ba5943f1dd33</td>\n",
       "    </tr>\n",
       "    <tr>\n",
       "      <th>1</th>\n",
       "      <td>2019-11-01 00:00:00 UTC</td>\n",
       "      <td>view</td>\n",
       "      <td>5000088</td>\n",
       "      <td>2.053010e+18</td>\n",
       "      <td>appliances.sewing_machine</td>\n",
       "      <td>janome</td>\n",
       "      <td>293.65</td>\n",
       "      <td>530496790</td>\n",
       "      <td>8e5f4f83-366c-4f70-860e-ca7417414283</td>\n",
       "    </tr>\n",
       "    <tr>\n",
       "      <th>2</th>\n",
       "      <td>2019-11-01 00:00:01 UTC</td>\n",
       "      <td>view</td>\n",
       "      <td>17302664</td>\n",
       "      <td>2.053010e+18</td>\n",
       "      <td>NaN</td>\n",
       "      <td>creed</td>\n",
       "      <td>28.31</td>\n",
       "      <td>561587266</td>\n",
       "      <td>755422e7-9040-477b-9bd2-6a6e8fd97387</td>\n",
       "    </tr>\n",
       "    <tr>\n",
       "      <th>3</th>\n",
       "      <td>2019-11-01 00:00:01 UTC</td>\n",
       "      <td>view</td>\n",
       "      <td>3601530</td>\n",
       "      <td>2.053010e+18</td>\n",
       "      <td>appliances.kitchen.washer</td>\n",
       "      <td>lg</td>\n",
       "      <td>712.87</td>\n",
       "      <td>518085591</td>\n",
       "      <td>3bfb58cd-7892-48cc-8020-2f17e6de6e7f</td>\n",
       "    </tr>\n",
       "    <tr>\n",
       "      <th>4</th>\n",
       "      <td>2019-11-01 00:00:01 UTC</td>\n",
       "      <td>view</td>\n",
       "      <td>1004775</td>\n",
       "      <td>2.053010e+18</td>\n",
       "      <td>electronics.smartphone</td>\n",
       "      <td>xiaomi</td>\n",
       "      <td>183.27</td>\n",
       "      <td>558856683</td>\n",
       "      <td>313628f1-68b8-460d-84f6-cec7a8796ef2</td>\n",
       "    </tr>\n",
       "  </tbody>\n",
       "</table>\n",
       "</div>"
      ],
      "text/plain": [
       "                event_time event_type  product_id   category_id  \\\n",
       "0  2019-11-01 00:00:00 UTC       view     1003461  2.053010e+18   \n",
       "1  2019-11-01 00:00:00 UTC       view     5000088  2.053010e+18   \n",
       "2  2019-11-01 00:00:01 UTC       view    17302664  2.053010e+18   \n",
       "3  2019-11-01 00:00:01 UTC       view     3601530  2.053010e+18   \n",
       "4  2019-11-01 00:00:01 UTC       view     1004775  2.053010e+18   \n",
       "\n",
       "               category_code   brand   price    user_id  \\\n",
       "0     electronics.smartphone  xiaomi  489.07  520088904   \n",
       "1  appliances.sewing_machine  janome  293.65  530496790   \n",
       "2                        NaN   creed   28.31  561587266   \n",
       "3  appliances.kitchen.washer      lg  712.87  518085591   \n",
       "4     electronics.smartphone  xiaomi  183.27  558856683   \n",
       "\n",
       "                           user_session  \n",
       "0  4d3b30da-a5e4-49df-b1a8-ba5943f1dd33  \n",
       "1  8e5f4f83-366c-4f70-860e-ca7417414283  \n",
       "2  755422e7-9040-477b-9bd2-6a6e8fd97387  \n",
       "3  3bfb58cd-7892-48cc-8020-2f17e6de6e7f  \n",
       "4  313628f1-68b8-460d-84f6-cec7a8796ef2  "
      ]
     },
     "execution_count": 2,
     "metadata": {},
     "output_type": "execute_result"
    }
   ],
   "source": [
    "df = pd.read_csv(\"2019-Nov.csv\")\n",
    "df.head()"
   ]
  },
  {
   "cell_type": "code",
   "execution_count": 3,
   "id": "6cbe2d2b-832e-4426-95a2-9e7bf1262df2",
   "metadata": {},
   "outputs": [
    {
     "name": "stdout",
     "output_type": "stream",
     "text": [
      "Shape: (999998, 9)\n",
      "<class 'pandas.core.frame.DataFrame'>\n",
      "RangeIndex: 999998 entries, 0 to 999997\n",
      "Data columns (total 9 columns):\n",
      " #   Column         Non-Null Count   Dtype  \n",
      "---  ------         --------------   -----  \n",
      " 0   event_time     999998 non-null  object \n",
      " 1   event_type     999998 non-null  object \n",
      " 2   product_id     999998 non-null  int64  \n",
      " 3   category_id    999998 non-null  float64\n",
      " 4   category_code  683022 non-null  object \n",
      " 5   brand          852801 non-null  object \n",
      " 6   price          999998 non-null  float64\n",
      " 7   user_id        999998 non-null  int64  \n",
      " 8   user_session   999998 non-null  object \n",
      "dtypes: float64(2), int64(2), object(5)\n",
      "memory usage: 68.7+ MB\n"
     ]
    }
   ],
   "source": [
    "print(\"Shape:\", df.shape)\n",
    "df.info()"
   ]
  },
  {
   "cell_type": "code",
   "execution_count": 4,
   "id": "78692e2b-6d0c-4fc7-b6ee-b74621ba6223",
   "metadata": {},
   "outputs": [],
   "source": [
    "df['event_time'] = pd.to_datetime(df['event_time'], errors='coerce')\n",
    "df['event_date'] = df['event_time'].dt.date\n",
    "df['event_hour'] = df['event_time'].dt.hour\n",
    "df.isnull().sum()\n",
    "df = df.dropna(subset=['event_time'])"
   ]
  },
  {
   "cell_type": "markdown",
   "id": "eea58149",
   "metadata": {},
   "source": [
    "\n",
    "## Feature Engineering Explanation\n",
    "\n",
    "The following features were engineered from raw event data for each user:\n",
    "- `views`: Number of product views\n",
    "- `cart_adds`: Number of cart addition events\n",
    "- `purchases`: Number of purchase events\n",
    "- `conversion_rate`: Purchases divided by views\n",
    "- `cart_to_purchase_ratio`: Purchases divided by cart additions\n",
    "- `unique_products` and `unique_categories`: Diversity of interest\n",
    "- `avg_price`: Average price of viewed items\n",
    "- `sessions`: Distinct user sessions\n",
    "\n",
    "These features represent user activity and intent, helping us cluster similar behavior patterns.\n"
   ]
  },
  {
   "cell_type": "code",
   "execution_count": 5,
   "id": "c9ef19fa-7861-4c16-8286-2056a30df96b",
   "metadata": {},
   "outputs": [
    {
     "data": {
      "image/png": "[encoded data removed]",
      "text/plain": [
       "<Figure size 432x288 with 1 Axes>"
      ]
     },
     "metadata": {},
     "output_type": "display_data"
    }
   ],
   "source": [
    "sns.countplot(data=df, x='event_type', order=df['event_type'].value_counts().index)\n",
    "plt.title(\"Event Type Distribution\")\n",
    "plt.xticks(rotation=45)\n",
    "plt.show()"
   ]
  },
  {
   "cell_type": "code",
   "execution_count": 6,
   "id": "6cff35dc-950c-4860-a1e2-9f5a8802a7cc",
   "metadata": {},
   "outputs": [
    {
     "data": {
      "text/plain": [
       "<AxesSubplot:title={'center':'Events per Hour'}, xlabel='event_time'>"
      ]
     },
     "execution_count": 6,
     "metadata": {},
     "output_type": "execute_result"
    },
    {
     "data": {
      "image/png": "[encoded data removed]",
      "text/plain": [
       "<Figure size 720x288 with 1 Axes>"
      ]
     },
     "metadata": {},
     "output_type": "display_data"
    }
   ],
   "source": [
    "df.set_index('event_time')['event_type'].resample('H').count().plot(\n",
    "    figsize=(10, 4), title=\"Events per Hour\"\n",
    ")"
   ]
  },
  {
   "cell_type": "code",
   "execution_count": null,
   "id": "94f423b3-2ff7-4229-acab-3c163250e0a8",
   "metadata": {},
   "outputs": [],
   "source": [
    "user_features = df.groupby('user_id').agg(\n",
    "    total_events=('event_type', 'count'),\n",
    "    views=('event_type', lambda x: (x == 'view').sum()),\n",
    "    cart_adds=('event_type', lambda x: (x == 'cart').sum()),\n",
    "    purchases=('event_type', lambda x: (x == 'purchase').sum()),\n",
    "    unique_products=('product_id', pd.Series.nunique),\n",
    "    unique_categories=('category_code', pd.Series.nunique),\n",
    "    sessions=('user_session', pd.Series.nunique),\n",
    "    avg_price=('price', 'mean')\n",
    ")"
   ]
  },
  {
   "cell_type": "code",
   "execution_count": null,
   "id": "9e051fbd-6057-4eaa-be74-e8e7cac695b9",
   "metadata": {},
   "outputs": [],
   "source": [
    "user_features['conversion_rate'] = user_features['purchases'] / user_features['views']\n",
    "user_features['cart_to_purchase_ratio'] = user_features['purchases'] / user_features['cart_adds']\n",
    "user_features = user_features.fillna(0)\n",
    "user_features.head()"
   ]
  },
  {
   "cell_type": "code",
   "execution_count": 17,
   "id": "7d6b4b93-9154-4041-9621-97af4c3498fb",
   "metadata": {},
   "outputs": [
    {
     "name": "stdout",
     "output_type": "stream",
     "text": [
      "Features saved!\n"
     ]
    }
   ],
   "source": [
    "user_features.to_csv(\"user_behavior_features.csv\")\n",
    "print(\"Features saved!\")"
   ]
  },
  {
   "cell_type": "code",
   "execution_count": 7,
   "id": "8666595f-863f-401d-8089-3a6881df349b",
   "metadata": {
    "collapsed": true,
    "jupyter": {
     "outputs_hidden": true
    },
    "tags": []
   },
   "outputs": [
    {
     "name": "stdout",
     "output_type": "stream",
     "text": [
      "NaNs:\n",
      " user_id                   0\n",
      "total_events              0\n",
      "views                     0\n",
      "cart_adds                 0\n",
      "purchases                 0\n",
      "unique_products           0\n",
      "unique_categories         0\n",
      "sessions                  0\n",
      "avg_price                 0\n",
      "conversion_rate           0\n",
      "cart_to_purchase_ratio    0\n",
      "dtype: int64\n",
      "\n",
      "Infinite values:\n",
      " user_id                      0\n",
      "total_events                 0\n",
      "views                        0\n",
      "cart_adds                    0\n",
      "purchases                    0\n",
      "unique_products              0\n",
      "unique_categories            0\n",
      "sessions                     0\n",
      "avg_price                    0\n",
      "conversion_rate              7\n",
      "cart_to_purchase_ratio    8243\n",
      "dtype: int64\n"
     ]
    }
   ],
   "source": [
    "df_new = pd.read_csv(\"user_behavior_features.csv\")\n",
    "print(\"NaNs:\\n\", df_new.isna().sum())\n",
    "print(\"\\nInfinite values:\\n\", df_new.isin([float('inf'), float('-inf')]).sum())"
   ]
  },
  {
   "cell_type": "code",
   "execution_count": 8,
   "id": "d0e6a7cb-dbd6-4fe8-bc05-e3c48c937150",
   "metadata": {},
   "outputs": [],
   "source": [
    "df_new.replace([float('inf'), float('-inf')], pd.NA, inplace=True)\n",
    "df_new.fillna(0, inplace=True)"
   ]
  },
  {
   "cell_type": "code",
   "execution_count": 9,
   "id": "54909225-ffb4-401a-a699-e517a688927c",
   "metadata": {},
   "outputs": [],
   "source": [
    "features = df_new.copy()\n",
    "scaler = StandardScaler()\n",
    "scaled = scaler.fit_transform(features)"
   ]
  },
  {
   "cell_type": "markdown",
   "id": "5ffdd721",
   "metadata": {},
   "source": [
    "\n",
    "## Clustering Summary\n",
    "\n",
    "K-Means clustering was applied on scaled features. The optimal number of clusters was determined using the Elbow Method and Silhouette Score.\n",
    "\n",
    "PCA (Principal Component Analysis) was then used to reduce feature dimensions for 2D visualization of the clusters.\n"
   ]
  },
  {
   "cell_type": "code",
   "execution_count": 10,
   "id": "85c8e898-4653-4fc6-ba96-3d9894c980e2",
   "metadata": {
    "tags": []
   },
   "outputs": [
    {
     "data": {
      "image/png": "[encoded data removed]",
      "text/plain": [
       "<Figure size 432x288 with 1 Axes>"
      ]
     },
     "metadata": {},
     "output_type": "display_data"
    }
   ],
   "source": [
    "inertia = []\n",
    "k_range = range(2, 11)\n",
    "\n",
    "for k in k_range:\n",
    "    kmeans = KMeans(n_clusters=k, random_state=42)\n",
    "    kmeans.fit(scaled)\n",
    "    inertia.append(kmeans.inertia_)\n",
    "\n",
    "plt.plot(k_range, inertia, marker='o')\n",
    "plt.title('Elbow Method - Optimal k')\n",
    "plt.xlabel('Number of clusters (k)')\n",
    "plt.ylabel('Inertia')\n",
    "plt.grid(True)\n",
    "plt.show()"
   ]
  },
  {
   "cell_type": "code",
   "execution_count": 18,
   "id": "6e4aaf67-b29e-43e4-bef4-c0947c396a36",
   "metadata": {
    "tags": []
   },
   "outputs": [
    {
     "name": "stdout",
     "output_type": "stream",
     "text": [
      "k=2, Silhouette Score=0.554\n",
      "k=3, Silhouette Score=0.534\n",
      "k=4, Silhouette Score=0.226\n",
      "k=5, Silhouette Score=0.234\n"
     ]
    }
   ],
   "source": [
    "for k in range(2, 6):\n",
    "    kmeans = KMeans(n_clusters=k, random_state=42)\n",
    "    labels = kmeans.fit_predict(scaled)\n",
    "    score = silhouette_score(scaled, labels)\n",
    "    print(f\"k={k}, Silhouette Score={score:.3f}\")"
   ]
  },
  {
   "cell_type": "code",
   "execution_count": 11,
   "id": "72920929-c3b3-41a9-bad0-4d07806455b8",
   "metadata": {
    "tags": []
   },
   "outputs": [
    {
     "data": {
      "text/html": [
       "<div>\n",
       "<style scoped>\n",
       "    .dataframe tbody tr th:only-of-type {\n",
       "        vertical-align: middle;\n",
       "    }\n",
       "\n",
       "    .dataframe tbody tr th {\n",
       "        vertical-align: top;\n",
       "    }\n",
       "\n",
       "    .dataframe thead th {\n",
       "        text-align: right;\n",
       "    }\n",
       "</style>\n",
       "<table border=\"1\" class=\"dataframe\">\n",
       "  <thead>\n",
       "    <tr style=\"text-align: right;\">\n",
       "      <th></th>\n",
       "      <th>user_id</th>\n",
       "      <th>total_events</th>\n",
       "      <th>views</th>\n",
       "      <th>cart_adds</th>\n",
       "      <th>purchases</th>\n",
       "      <th>unique_products</th>\n",
       "      <th>unique_categories</th>\n",
       "      <th>sessions</th>\n",
       "      <th>avg_price</th>\n",
       "      <th>conversion_rate</th>\n",
       "      <th>cart_to_purchase_ratio</th>\n",
       "      <th>cluster</th>\n",
       "    </tr>\n",
       "  </thead>\n",
       "  <tbody>\n",
       "    <tr>\n",
       "      <th>0</th>\n",
       "      <td>274969076</td>\n",
       "      <td>3</td>\n",
       "      <td>3</td>\n",
       "      <td>0</td>\n",
       "      <td>0</td>\n",
       "      <td>1</td>\n",
       "      <td>1</td>\n",
       "      <td>2</td>\n",
       "      <td>304.75000</td>\n",
       "      <td>0.0</td>\n",
       "      <td>0.0</td>\n",
       "      <td>0</td>\n",
       "    </tr>\n",
       "    <tr>\n",
       "      <th>1</th>\n",
       "      <td>275256741</td>\n",
       "      <td>1</td>\n",
       "      <td>1</td>\n",
       "      <td>0</td>\n",
       "      <td>0</td>\n",
       "      <td>1</td>\n",
       "      <td>1</td>\n",
       "      <td>1</td>\n",
       "      <td>1415.48000</td>\n",
       "      <td>0.0</td>\n",
       "      <td>0.0</td>\n",
       "      <td>0</td>\n",
       "    </tr>\n",
       "    <tr>\n",
       "      <th>2</th>\n",
       "      <td>295643776</td>\n",
       "      <td>8</td>\n",
       "      <td>8</td>\n",
       "      <td>0</td>\n",
       "      <td>0</td>\n",
       "      <td>4</td>\n",
       "      <td>2</td>\n",
       "      <td>2</td>\n",
       "      <td>189.94625</td>\n",
       "      <td>0.0</td>\n",
       "      <td>0.0</td>\n",
       "      <td>0</td>\n",
       "    </tr>\n",
       "    <tr>\n",
       "      <th>3</th>\n",
       "      <td>296465302</td>\n",
       "      <td>25</td>\n",
       "      <td>25</td>\n",
       "      <td>0</td>\n",
       "      <td>0</td>\n",
       "      <td>23</td>\n",
       "      <td>2</td>\n",
       "      <td>2</td>\n",
       "      <td>221.20800</td>\n",
       "      <td>0.0</td>\n",
       "      <td>0.0</td>\n",
       "      <td>2</td>\n",
       "    </tr>\n",
       "    <tr>\n",
       "      <th>4</th>\n",
       "      <td>319315209</td>\n",
       "      <td>3</td>\n",
       "      <td>3</td>\n",
       "      <td>0</td>\n",
       "      <td>0</td>\n",
       "      <td>2</td>\n",
       "      <td>0</td>\n",
       "      <td>1</td>\n",
       "      <td>4.88000</td>\n",
       "      <td>0.0</td>\n",
       "      <td>0.0</td>\n",
       "      <td>0</td>\n",
       "    </tr>\n",
       "  </tbody>\n",
       "</table>\n",
       "</div>"
      ],
      "text/plain": [
       "     user_id  total_events  views  cart_adds  purchases  unique_products  \\\n",
       "0  274969076             3      3          0          0                1   \n",
       "1  275256741             1      1          0          0                1   \n",
       "2  295643776             8      8          0          0                4   \n",
       "3  296465302            25     25          0          0               23   \n",
       "4  319315209             3      3          0          0                2   \n",
       "\n",
       "   unique_categories  sessions   avg_price  conversion_rate  \\\n",
       "0                  1         2   304.75000              0.0   \n",
       "1                  1         1  1415.48000              0.0   \n",
       "2                  2         2   189.94625              0.0   \n",
       "3                  2         2   221.20800              0.0   \n",
       "4                  0         1     4.88000              0.0   \n",
       "\n",
       "   cart_to_purchase_ratio  cluster  \n",
       "0                     0.0        0  \n",
       "1                     0.0        0  \n",
       "2                     0.0        0  \n",
       "3                     0.0        2  \n",
       "4                     0.0        0  "
      ]
     },
     "execution_count": 11,
     "metadata": {},
     "output_type": "execute_result"
    }
   ],
   "source": [
    "k = 4\n",
    "kmeans = KMeans(n_clusters=k, random_state=42)\n",
    "features['cluster'] = kmeans.fit_predict(scaled)\n",
    "features.head()"
   ]
  },
  {
   "cell_type": "code",
   "execution_count": 20,
   "id": "0665f1b8-6fe0-4b9c-a76e-d83696fd4723",
   "metadata": {
    "tags": []
   },
   "outputs": [
    {
     "data": {
      "image/png": "[encoded data removed]",
      "text/plain": [
       "<Figure size 720x432 with 1 Axes>"
      ]
     },
     "metadata": {},
     "output_type": "display_data"
    }
   ],
   "source": [
    "pca = PCA(n_components=3)\n",
    "pca_result = pca.fit_transform(scaled)\n",
    "features['pca1'] = pca_result[:, 0]\n",
    "features['pca2'] = pca_result[:, 1]\n",
    "features['pca3'] = pca_result[:, 2]\n",
    "\n",
    "plt.figure(figsize=(10, 6))\n",
    "sns.scatterplot(data=features, x='pca1', y='pca2', hue='cluster', palette='Set2', s=60)\n",
    "plt.title('User Segments Visualized with PCA')\n",
    "plt.show()"
   ]
  },
  {
   "cell_type": "code",
   "execution_count": 23,
   "id": "54c4e9fb-2fea-42a3-9fb4-fe871b4862a4",
   "metadata": {},
   "outputs": [
    {
     "data": {
      "text/plain": [
       "<Figure size 432x288 with 0 Axes>"
      ]
     },
     "metadata": {},
     "output_type": "display_data"
    }
   ],
   "source": [
    "plt.savefig(\"2d_cluster_plot.png\", dpi=300)\n",
    "plt.show()"
   ]
  },
  {
   "cell_type": "code",
   "execution_count": 21,
   "id": "a6528500-e4de-441b-9773-affa51f01c3c",
   "metadata": {},
   "outputs": [],
   "source": [
    "features.to_csv('user_behaviour_with_cluster.csv')"
   ]
  },
  {
   "cell_type": "code",
   "execution_count": 22,
   "id": "f496481f-fd04-4352-8e1f-29c3d842d578",
   "metadata": {},
   "outputs": [
    {
     "data": {
      "text/html": [
       "<div>\n",
       "<style scoped>\n",
       "    .dataframe tbody tr th:only-of-type {\n",
       "        vertical-align: middle;\n",
       "    }\n",
       "\n",
       "    .dataframe tbody tr th {\n",
       "        vertical-align: top;\n",
       "    }\n",
       "\n",
       "    .dataframe thead th {\n",
       "        text-align: right;\n",
       "    }\n",
       "</style>\n",
       "<table border=\"1\" class=\"dataframe\">\n",
       "  <thead>\n",
       "    <tr style=\"text-align: right;\">\n",
       "      <th></th>\n",
       "      <th>user_id</th>\n",
       "      <th>total_events</th>\n",
       "      <th>views</th>\n",
       "      <th>cart_adds</th>\n",
       "      <th>purchases</th>\n",
       "      <th>unique_products</th>\n",
       "      <th>unique_categories</th>\n",
       "      <th>sessions</th>\n",
       "      <th>avg_price</th>\n",
       "      <th>conversion_rate</th>\n",
       "      <th>cart_to_purchase_ratio</th>\n",
       "      <th>pca1</th>\n",
       "      <th>pca2</th>\n",
       "      <th>pca3</th>\n",
       "    </tr>\n",
       "    <tr>\n",
       "      <th>cluster</th>\n",
       "      <th></th>\n",
       "      <th></th>\n",
       "      <th></th>\n",
       "      <th></th>\n",
       "      <th></th>\n",
       "      <th></th>\n",
       "      <th></th>\n",
       "      <th></th>\n",
       "      <th></th>\n",
       "      <th></th>\n",
       "      <th></th>\n",
       "      <th></th>\n",
       "      <th></th>\n",
       "      <th></th>\n",
       "    </tr>\n",
       "  </thead>\n",
       "  <tbody>\n",
       "    <tr>\n",
       "      <th>0</th>\n",
       "      <td>5.195735e+08</td>\n",
       "      <td>4.42</td>\n",
       "      <td>4.36</td>\n",
       "      <td>0.03</td>\n",
       "      <td>0.03</td>\n",
       "      <td>2.89</td>\n",
       "      <td>0.90</td>\n",
       "      <td>1.28</td>\n",
       "      <td>324.86</td>\n",
       "      <td>0.01</td>\n",
       "      <td>0.00</td>\n",
       "      <td>-0.31</td>\n",
       "      <td>-0.25</td>\n",
       "      <td>-0.22</td>\n",
       "    </tr>\n",
       "    <tr>\n",
       "      <th>1</th>\n",
       "      <td>5.568612e+08</td>\n",
       "      <td>3.56</td>\n",
       "      <td>3.51</td>\n",
       "      <td>0.02</td>\n",
       "      <td>0.03</td>\n",
       "      <td>2.39</td>\n",
       "      <td>0.84</td>\n",
       "      <td>1.25</td>\n",
       "      <td>305.25</td>\n",
       "      <td>0.01</td>\n",
       "      <td>0.00</td>\n",
       "      <td>-0.57</td>\n",
       "      <td>-0.12</td>\n",
       "      <td>0.24</td>\n",
       "    </tr>\n",
       "    <tr>\n",
       "      <th>2</th>\n",
       "      <td>5.340305e+08</td>\n",
       "      <td>29.72</td>\n",
       "      <td>29.46</td>\n",
       "      <td>0.10</td>\n",
       "      <td>0.15</td>\n",
       "      <td>16.90</td>\n",
       "      <td>2.23</td>\n",
       "      <td>2.92</td>\n",
       "      <td>268.90</td>\n",
       "      <td>0.01</td>\n",
       "      <td>0.01</td>\n",
       "      <td>4.85</td>\n",
       "      <td>-1.40</td>\n",
       "      <td>0.05</td>\n",
       "    </tr>\n",
       "    <tr>\n",
       "      <th>3</th>\n",
       "      <td>5.394726e+08</td>\n",
       "      <td>8.46</td>\n",
       "      <td>5.72</td>\n",
       "      <td>1.24</td>\n",
       "      <td>1.51</td>\n",
       "      <td>2.62</td>\n",
       "      <td>1.01</td>\n",
       "      <td>1.71</td>\n",
       "      <td>341.59</td>\n",
       "      <td>0.45</td>\n",
       "      <td>0.61</td>\n",
       "      <td>1.59</td>\n",
       "      <td>5.55</td>\n",
       "      <td>-0.03</td>\n",
       "    </tr>\n",
       "  </tbody>\n",
       "</table>\n",
       "</div>"
      ],
      "text/plain": [
       "              user_id  total_events  views  cart_adds  purchases  \\\n",
       "cluster                                                            \n",
       "0        5.195735e+08          4.42   4.36       0.03       0.03   \n",
       "1        5.568612e+08          3.56   3.51       0.02       0.03   \n",
       "2        5.340305e+08         29.72  29.46       0.10       0.15   \n",
       "3        5.394726e+08          8.46   5.72       1.24       1.51   \n",
       "\n",
       "         unique_products  unique_categories  sessions  avg_price  \\\n",
       "cluster                                                            \n",
       "0                   2.89               0.90      1.28     324.86   \n",
       "1                   2.39               0.84      1.25     305.25   \n",
       "2                  16.90               2.23      2.92     268.90   \n",
       "3                   2.62               1.01      1.71     341.59   \n",
       "\n",
       "         conversion_rate  cart_to_purchase_ratio  pca1  pca2  pca3  \n",
       "cluster                                                             \n",
       "0                   0.01                    0.00 -0.31 -0.25 -0.22  \n",
       "1                   0.01                    0.00 -0.57 -0.12  0.24  \n",
       "2                   0.01                    0.01  4.85 -1.40  0.05  \n",
       "3                   0.45                    0.61  1.59  5.55 -0.03  "
      ]
     },
     "execution_count": 22,
     "metadata": {},
     "output_type": "execute_result"
    }
   ],
   "source": [
    "cluster_summary = features.groupby('cluster').mean().round(2)\n",
    "cluster_summary"
   ]
  },
  {
   "cell_type": "code",
   "execution_count": 16,
   "id": "b777283c-d999-4489-b970-b5074ed6059c",
   "metadata": {},
   "outputs": [],
   "source": [
    "segment_labels = {\n",
    "    0: \"Passive Browsers\",\n",
    "    1: \"Non-Engaged Users\",\n",
    "    2: \"Window Shoppers\",\n",
    "    3: \"Loyal Buyers\"\n",
    "}\n",
    "features['segment_label'] = features['cluster'].map(segment_labels)"
   ]
  },
  {
   "cell_type": "code",
   "execution_count": 14,
   "id": "5f400f58-2a11-4e93-8842-60daef23f0cf",
   "metadata": {},
   "outputs": [
    {
     "data": {
      "image/png": "[encoded data removed]",
      "text/plain": [
       "<Figure size 720x360 with 1 Axes>"
      ]
     },
     "metadata": {},
     "output_type": "display_data"
    }
   ],
   "source": [
    "import seaborn as sns\n",
    "import matplotlib.pyplot as plt\n",
    "\n",
    "plt.figure(figsize=(10, 5))\n",
    "sns.boxplot(data=features, x='cluster', y='conversion_rate')\n",
    "plt.title('Conversion Rate by Cluster')\n",
    "plt.show()\n"
   ]
  },
  {
   "cell_type": "code",
   "execution_count": 15,
   "id": "2ae6af44-3f44-47a8-b24f-8403d63a11b2",
   "metadata": {},
   "outputs": [
    {
     "data": {
      "text/html": [
       "<div>\n",
       "<style scoped>\n",
       "    .dataframe tbody tr th:only-of-type {\n",
       "        vertical-align: middle;\n",
       "    }\n",
       "\n",
       "    .dataframe tbody tr th {\n",
       "        vertical-align: top;\n",
       "    }\n",
       "\n",
       "    .dataframe thead th {\n",
       "        text-align: right;\n",
       "    }\n",
       "</style>\n",
       "<table border=\"1\" class=\"dataframe\">\n",
       "  <thead>\n",
       "    <tr style=\"text-align: right;\">\n",
       "      <th></th>\n",
       "      <th>views</th>\n",
       "      <th>purchases</th>\n",
       "      <th>conversion_rate</th>\n",
       "      <th>sessions</th>\n",
       "    </tr>\n",
       "    <tr>\n",
       "      <th>segment_label</th>\n",
       "      <th></th>\n",
       "      <th></th>\n",
       "      <th></th>\n",
       "      <th></th>\n",
       "    </tr>\n",
       "  </thead>\n",
       "  <tbody>\n",
       "    <tr>\n",
       "      <th>Loyal Buyers</th>\n",
       "      <td>5.72</td>\n",
       "      <td>1.51</td>\n",
       "      <td>0.45</td>\n",
       "      <td>1.71</td>\n",
       "    </tr>\n",
       "    <tr>\n",
       "      <th>Non-Engaged Users</th>\n",
       "      <td>3.51</td>\n",
       "      <td>0.03</td>\n",
       "      <td>0.01</td>\n",
       "      <td>1.25</td>\n",
       "    </tr>\n",
       "    <tr>\n",
       "      <th>Passive Browsers</th>\n",
       "      <td>4.36</td>\n",
       "      <td>0.03</td>\n",
       "      <td>0.01</td>\n",
       "      <td>1.28</td>\n",
       "    </tr>\n",
       "    <tr>\n",
       "      <th>Window Shoppers</th>\n",
       "      <td>29.46</td>\n",
       "      <td>0.15</td>\n",
       "      <td>0.01</td>\n",
       "      <td>2.92</td>\n",
       "    </tr>\n",
       "  </tbody>\n",
       "</table>\n",
       "</div>"
      ],
      "text/plain": [
       "                   views  purchases  conversion_rate  sessions\n",
       "segment_label                                                 \n",
       "Loyal Buyers        5.72       1.51             0.45      1.71\n",
       "Non-Engaged Users   3.51       0.03             0.01      1.25\n",
       "Passive Browsers    4.36       0.03             0.01      1.28\n",
       "Window Shoppers    29.46       0.15             0.01      2.92"
      ]
     },
     "execution_count": 15,
     "metadata": {},
     "output_type": "execute_result"
    }
   ],
   "source": [
    "summary_df = features.groupby('segment_label').agg({\n",
    "    'views': 'mean',\n",
    "    'purchases': 'mean',\n",
    "    'conversion_rate': 'mean',\n",
    "    'sessions': 'mean'\n",
    "}).round(2)\n",
    "\n",
    "summary_df"
   ]
  },
  {
   "cell_type": "markdown",
   "id": "5a9cb07a",
   "metadata": {},
   "source": [
    "\n",
    "## Segment Profiling\n",
    "\n",
    "Each cluster was analyzed and labeled based on user behavior metrics. This allows us to attach meaningful business interpretations to each group.\n",
    "\n",
    "For example:\n",
    "- **Loyal Buyers**: High purchase and conversion rate\n",
    "- **Window Shoppers**: High views but low purchases\n",
    "- **Passive Browsers**: Low interaction overall\n",
    "- **Non-Engaged Users**: Little to no meaningful activity\n"
   ]
  },
  {
   "cell_type": "markdown",
   "id": "2ea4c7d8",
   "metadata": {},
   "source": [
    "\n",
    "## Conclusion\n",
    "\n",
    "This customer segmentation approach helps businesses understand user behavior and tailor engagement strategies accordingly. The identified clusters offer actionable insights for targeting promotions, improving retention, and increasing overall sales conversion.\n"
   ]
  }
 ],
 "metadata": {
  "kernelspec": {
   "display_name": "Python 3",
   "language": "python",
   "name": "python3"
  },
  "language_info": {
   "codemirror_mode": {
    "name": "ipython",
    "version": 3
   },
   "file_extension": ".py",
   "mimetype": "text/x-python",
   "name": "python",
   "nbconvert_exporter": "python",
   "pygments_lexer": "ipython3",
   "version": "3.8.8"
  }
 },
 "nbformat": 4,
 "nbformat_minor": 5
}
